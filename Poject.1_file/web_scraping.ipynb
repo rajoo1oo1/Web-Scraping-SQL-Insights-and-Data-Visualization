{
 "cells": [
  {
   "cell_type": "code",
   "execution_count": 2,
   "id": "560431d9-bb98-4df3-9275-3d2b025fd499",
   "metadata": {},
   "outputs": [
    {
     "name": "stdout",
     "output_type": "stream",
     "text": [
      "Scraping http://quotes.toscrape.com/page/1/\n",
      "Scraping http://quotes.toscrape.com/page/2/\n",
      "Scraping http://quotes.toscrape.com/page/3/\n",
      "Scraping http://quotes.toscrape.com/page/4/\n",
      "Scraping http://quotes.toscrape.com/page/5/\n",
      "Scraping http://quotes.toscrape.com/page/6/\n",
      "Scraping http://quotes.toscrape.com/page/7/\n",
      "Scraping http://quotes.toscrape.com/page/8/\n",
      "Scraping http://quotes.toscrape.com/page/9/\n",
      "Scraping http://quotes.toscrape.com/page/10/\n",
      "Data saved to quotes.csv\n"
     ]
    }
   ],
   "source": [
    "import requests\n",
    "from bs4 import BeautifulSoup\n",
    "import csv\n",
    "\n",
    "# Base URL\n",
    "base_url = \"http://quotes.toscrape.com\"\n",
    "url = \"/page/1/\"\n",
    "\n",
    "# Store all records\n",
    "records = []\n",
    "\n",
    "# Loop through all pages\n",
    "while url:\n",
    "    print(f\"Scraping {base_url + url}\")\n",
    "    response = requests.get(base_url + url)\n",
    "    soup = BeautifulSoup(response.text, \"html.parser\")\n",
    "\n",
    "    # Find all quote blocks\n",
    "    quotes = soup.find_all(\"div\", class_=\"quote\")\n",
    "\n",
    "    for quote in quotes:\n",
    "        text = quote.find(\"span\", class_=\"text\").get_text(strip=True)\n",
    "        author = quote.find(\"small\", class_=\"author\").get_text(strip=True)\n",
    "        tags = quote.find_all(\"a\", class_=\"tag\")\n",
    "        for tag in tags:\n",
    "            tag_name = tag.get_text(strip=True)\n",
    "            records.append({\n",
    "                \"author\": author,\n",
    "                \"quote\": text,\n",
    "                \"tag_name\": tag_name\n",
    "            })\n",
    "\n",
    "    # Check for next page\n",
    "    next_btn = soup.find(\"li\", class_=\"next\")\n",
    "    if next_btn:\n",
    "        url = next_btn.find(\"a\")[\"href\"]\n",
    "    else:\n",
    "        url = None\n",
    "\n",
    "# Save to CSV\n",
    "with open(\"quotes.csv\", mode=\"w\", newline='', encoding=\"utf-8\") as file:\n",
    "    writer = csv.DictWriter(file, fieldnames=[\"author\", \"quote\", \"tag_name\"])\n",
    "    writer.writeheader()\n",
    "    writer.writerows(records)\n",
    "\n",
    "print(\"Data saved to quotes.csv\")"
   ]
  },
  {
   "cell_type": "code",
   "execution_count": null,
   "id": "e9690518-ec9f-4478-8ab4-ee1e8eebe72a",
   "metadata": {},
   "outputs": [],
   "source": []
  }
 ],
 "metadata": {
  "kernelspec": {
   "display_name": "Python [conda env:base] *",
   "language": "python",
   "name": "conda-base-py"
  },
  "language_info": {
   "codemirror_mode": {
    "name": "ipython",
    "version": 3
   },
   "file_extension": ".py",
   "mimetype": "text/x-python",
   "name": "python",
   "nbconvert_exporter": "python",
   "pygments_lexer": "ipython3",
   "version": "3.12.7"
  }
 },
 "nbformat": 4,
 "nbformat_minor": 5
}
